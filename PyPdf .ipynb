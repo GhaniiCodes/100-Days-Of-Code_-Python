{
 "cells": [
  {
   "cell_type": "code",
   "execution_count": 4,
   "metadata": {},
   "outputs": [],
   "source": [
    "import PyPDF2"
   ]
  },
  {
   "cell_type": "code",
   "execution_count": 6,
   "metadata": {},
   "outputs": [
    {
     "name": "stderr",
     "output_type": "stream",
     "text": [
      "<>:1: SyntaxWarning: invalid escape sequence '\\P'\n",
      "<>:1: SyntaxWarning: invalid escape sequence '\\P'\n",
      "C:\\Users\\Usman\\AppData\\Local\\Temp\\ipykernel_162308\\539402886.py:1: SyntaxWarning: invalid escape sequence '\\P'\n",
      "  pdf_file = open('D:\\PYTHON\\PyPdf\\data_analysis_with_pandas_(2019).pdf', 'rb')\n"
     ]
    }
   ],
   "source": [
    "pdf_file = open('D:\\PYTHON\\PyPdf\\data_analysis_with_pandas_(2019).pdf', 'rb')\n",
    "\n"
   ]
  },
  {
   "cell_type": "code",
   "execution_count": 8,
   "metadata": {},
   "outputs": [],
   "source": [
    "File_Reader = PyPDF2.PdfReader(pdf_file)   "
   ]
  },
  {
   "cell_type": "code",
   "execution_count": 9,
   "metadata": {},
   "outputs": [
    {
     "name": "stdout",
     "output_type": "stream",
     "text": [
      "723\n"
     ]
    }
   ],
   "source": [
    "print (len(File_Reader.pages))"
   ]
  },
  {
   "cell_type": "code",
   "execution_count": 17,
   "metadata": {},
   "outputs": [
    {
     "name": "stdout",
     "output_type": "stream",
     "text": [
      "\n"
     ]
    }
   ],
   "source": [
    "page = File_Reader.pages[0]\n",
    "page_text = page.extract_text()\n",
    "print(page_text)"
   ]
  },
  {
   "cell_type": "code",
   "execution_count": 18,
   "metadata": {},
   "outputs": [
    {
     "name": "stdout",
     "output_type": "stream",
     "text": [
      "Hands-On Data Analysis with\n",
      "Pandas\n",
      "Eﬃciently perform data collection, wrangling, analysis,\n",
      "and visualization using Python\n",
      "Stefanie Molin\n",
      "BIRMINGHAM - MUMBAI\n"
     ]
    }
   ],
   "source": [
    "print (File_Reader.pages[1].extract_text())"
   ]
  },
  {
   "cell_type": "code",
   "execution_count": 20,
   "metadata": {},
   "outputs": [
    {
     "name": "stderr",
     "output_type": "stream",
     "text": [
      "<>:10: SyntaxWarning: invalid escape sequence '\\P'\n",
      "<>:10: SyntaxWarning: invalid escape sequence '\\P'\n",
      "<>:11: SyntaxWarning: invalid escape sequence '\\P'\n",
      "<>:10: SyntaxWarning: invalid escape sequence '\\P'\n",
      "<>:10: SyntaxWarning: invalid escape sequence '\\P'\n",
      "<>:11: SyntaxWarning: invalid escape sequence '\\P'\n",
      "C:\\Users\\Usman\\AppData\\Local\\Temp\\ipykernel_162308\\358904796.py:10: SyntaxWarning: invalid escape sequence '\\P'\n",
      "  pdf_Files = [\"D:\\PYTHON\\PyPdf\\Python Session # 01.pdf\", \"D:\\PYTHON\\PyPdf\\Python session # 02.pdf\"]\n",
      "C:\\Users\\Usman\\AppData\\Local\\Temp\\ipykernel_162308\\358904796.py:10: SyntaxWarning: invalid escape sequence '\\P'\n",
      "  pdf_Files = [\"D:\\PYTHON\\PyPdf\\Python Session # 01.pdf\", \"D:\\PYTHON\\PyPdf\\Python session # 02.pdf\"]\n",
      "C:\\Users\\Usman\\AppData\\Local\\Temp\\ipykernel_162308\\358904796.py:11: SyntaxWarning: invalid escape sequence '\\P'\n",
      "  Merged = \"D:\\PYTHON\\PyPdf\\Python Session 1 and 2.pdf\"\n"
     ]
    }
   ],
   "source": [
    "def merge_pdfs(pdf_list, output_path):\n",
    "    merger = PyPDF2.PdfMerger()\n",
    "\n",
    "    for pdf in pdf_list:\n",
    "        merger.append(pdf)\n",
    "\n",
    "    merger.write(output_path)\n",
    "    merger.close()\n",
    "    \n",
    "pdf_Files = [\"D:\\PYTHON\\PyPdf\\Python Session # 01.pdf\", \"D:\\PYTHON\\PyPdf\\Python session # 02.pdf\"]\n",
    "Merged = \"D:\\PYTHON\\PyPdf\\Python Session 1 and 2.pdf\"\n",
    "merge_pdfs(pdf_Files, Merged)"
   ]
  },
  {
   "cell_type": "code",
   "execution_count": 6,
   "metadata": {},
   "outputs": [
    {
     "name": "stdout",
     "output_type": "stream",
     "text": [
      "Reader_1 Pages = 16\n",
      "Reader_2 Pages = 13\n",
      "Reader_3 Pages = 29\n"
     ]
    }
   ],
   "source": [
    "with open(\"D:\\\\PYTHON\\\\PyPdf\\\\Python Session # 01.pdf\", \"rb\") as File_1, \\\n",
    "     open(\"D:\\\\PYTHON\\\\PyPdf\\\\Python session # 02.pdf\", \"rb\") as File_2, \\\n",
    "     open(\"D:\\\\PYTHON\\\\PyPdf\\\\Python Session 1 and 2.pdf\", \"rb\") as File_3:\n",
    "     \n",
    "\n",
    "    Reader_1 = PyPDF2.PdfReader(File_1)\n",
    "    Reader_2 = PyPDF2.PdfReader(File_2)\n",
    "    Reader_3 = PyPDF2.PdfReader(File_3)\n",
    "\n",
    "    \n",
    "    print(\"Reader_1 Pages =\", len(Reader_1.pages))\n",
    "    print(\"Reader_2 Pages =\", len(Reader_2.pages))\n",
    "    print(\"Reader_3 Pages =\", len(Reader_3.pages))\n",
    "    "
   ]
  },
  {
   "cell_type": "code",
   "execution_count": null,
   "metadata": {},
   "outputs": [],
   "source": []
  }
 ],
 "metadata": {
  "kernelspec": {
   "display_name": "Python 3",
   "language": "python",
   "name": "python3"
  },
  "language_info": {
   "codemirror_mode": {
    "name": "ipython",
    "version": 3
   },
   "file_extension": ".py",
   "mimetype": "text/x-python",
   "name": "python",
   "nbconvert_exporter": "python",
   "pygments_lexer": "ipython3",
   "version": "3.12.3"
  }
 },
 "nbformat": 4,
 "nbformat_minor": 2
}
