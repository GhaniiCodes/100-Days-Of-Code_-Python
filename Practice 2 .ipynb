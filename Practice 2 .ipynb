{
 "cells": [
  {
   "cell_type": "code",
   "execution_count": 3,
   "metadata": {},
   "outputs": [
    {
     "name": "stdout",
     "output_type": "stream",
     "text": [
      "Original :  [22, 22, 22, 66, 66, 90, 7, 4, 90, 1]\n",
      "Sorted :  {1, 66, 4, 7, 22, 90}\n"
     ]
    }
   ],
   "source": [
    "A = []\n",
    "for i in range (1,11):\n",
    "    X = int(input(\"Enter Numbers : \"))\n",
    "    A.append(X)\n",
    "    \n",
    "print (\"Original : \" , A)\n",
    "print (\"Sorted : \",set(A))\n",
    "    "
   ]
  },
  {
   "cell_type": "code",
   "execution_count": 11,
   "metadata": {},
   "outputs": [
    {
     "name": "stdout",
     "output_type": "stream",
     "text": [
      "Original :  [2, 3, 4]\n",
      "Squared :  [4, 9, 16]\n"
     ]
    }
   ],
   "source": [
    "A = []\n",
    "X = int(input(\"Enter The range of your list : \"))\n",
    "for i in range (1,X+1):\n",
    "    Y = int(input(\"Enter Numbers : \"))\n",
    "    A.append(Y)\n",
    "\n",
    "\n",
    "print (\"Original : \", A)\n",
    "print (\"Squared : \", list(map(lambda A: A*A, A)))    "
   ]
  },
  {
   "cell_type": "code",
   "execution_count": 21,
   "metadata": {},
   "outputs": [
    {
     "name": "stdout",
     "output_type": "stream",
     "text": [
      "{'M': 1, 'u': 1, 'h': 2, 'a': 4, 'm': 3, 'd': 1, ' ': 2, 'U': 1, 's': 1, 'n': 2, 'G': 1, 'i': 1}\n"
     ]
    }
   ],
   "source": [
    "D = {}\n",
    "S = input(\"Enter a String : \")\n",
    "for letters in S:\n",
    "    D[letters] = S.count(letters)\n",
    "\n",
    "print (D)"
   ]
  },
  {
   "cell_type": "code",
   "execution_count": 44,
   "metadata": {},
   "outputs": [
    {
     "data": {
      "text/plain": [
       "{'Alice': 40, 'Bob': 44, 'Charlie': 19, 'Diana': 21, 'Usman': 38, 'Ghani': 42}"
      ]
     },
     "execution_count": 44,
     "metadata": {},
     "output_type": "execute_result"
    }
   ],
   "source": [
    "def merge(A,B):\n",
    "    A.update(B)\n",
    "\n",
    "    for key , value in B.items():\n",
    "        if key in A:\n",
    "            A[key] += value\n",
    "        \n",
    "    \n",
    "    return A\n",
    "            \n",
    "       \n",
    "\n",
    "students = {\"Alice\": 20,\"Bob\": 22,\"Charlie\": 19,\"Diana\": 21}\n",
    "\n",
    "students_2 = {\"Alice\": 20,\"Bob\": 22,\"Usman\": 19,\"Ghani\": 21}\n",
    "\n",
    "merge(students,students_2)"
   ]
  },
  {
   "cell_type": "code",
   "execution_count": null,
   "metadata": {},
   "outputs": [],
   "source": []
  },
  {
   "cell_type": "code",
   "execution_count": null,
   "metadata": {},
   "outputs": [],
   "source": []
  }
 ],
 "metadata": {
  "kernelspec": {
   "display_name": "Python 3",
   "language": "python",
   "name": "python3"
  },
  "language_info": {
   "codemirror_mode": {
    "name": "ipython",
    "version": 3
   },
   "file_extension": ".py",
   "mimetype": "text/x-python",
   "name": "python",
   "nbconvert_exporter": "python",
   "pygments_lexer": "ipython3",
   "version": "3.12.3"
  }
 },
 "nbformat": 4,
 "nbformat_minor": 2
}
