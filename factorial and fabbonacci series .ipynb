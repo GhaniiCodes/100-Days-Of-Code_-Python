{
 "cells": [
  {
   "cell_type": "code",
   "execution_count": 1,
   "metadata": {},
   "outputs": [
    {
     "name": "stdout",
     "output_type": "stream",
     "text": [
      "120\n"
     ]
    }
   ],
   "source": [
    "def factorial(A):\n",
    "    if (A == 0 or A == 1):\n",
    "        return 1\n",
    "    else:\n",
    "        return A * factorial(A - 1)\n",
    "\n",
    "A = int(input(\"Enter a Number : \"))\n",
    "print(factorial(A))    "
   ]
  },
  {
   "cell_type": "code",
   "execution_count": null,
   "metadata": {},
   "outputs": [],
   "source": [
    "def fabonacci(B):\n",
    "    if B == 0:\n",
    "        return 0\n",
    "    elif B == 1:\n",
    "        return 1\n",
    "    else:\n",
    "        return fabonacci(B - 1) + fabonacci(B - 2)\n",
    "\n",
    "B = int(input(\"Enter a Number: \"))\n",
    "print(fabonacci(B))"
   ]
  }
 ],
 "metadata": {
  "kernelspec": {
   "display_name": "Python 3",
   "language": "python",
   "name": "python3"
  },
  "language_info": {
   "codemirror_mode": {
    "name": "ipython",
    "version": 3
   },
   "file_extension": ".py",
   "mimetype": "text/x-python",
   "name": "python",
   "nbconvert_exporter": "python",
   "pygments_lexer": "ipython3",
   "version": "3.12.3"
  }
 },
 "nbformat": 4,
 "nbformat_minor": 2
}
