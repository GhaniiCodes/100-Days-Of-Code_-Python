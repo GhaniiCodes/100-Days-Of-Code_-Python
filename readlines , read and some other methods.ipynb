{
 "cells": [
  {
   "cell_type": "code",
   "execution_count": 1,
   "metadata": {},
   "outputs": [
    {
     "name": "stdout",
     "output_type": "stream",
     "text": [
      "SQL> select min(sal) from emp;\n",
      "\n"
     ]
    }
   ],
   "source": [
    "A = open ('Oracle.txt', 'r')\n",
    "B = A.readline()\n",
    "print (B)\n",
    " \n"
   ]
  },
  {
   "cell_type": "code",
   "execution_count": 5,
   "metadata": {},
   "outputs": [],
   "source": [
    "with open (\"Marks\", \"w\") as M :\n",
    "    M.write('''98,21,43\\n\\n 45,66,87\\n\\n 76,87,88''') \n",
    "    "
   ]
  },
  {
   "cell_type": "code",
   "execution_count": 10,
   "metadata": {},
   "outputs": [
    {
     "name": "stdout",
     "output_type": "stream",
     "text": [
      "This is for practice of File handling\n",
      "\n",
      " And congratulation we know how to append know\n",
      "\n",
      " And congratulation we know how to append now**\n"
     ]
    }
   ],
   "source": [
    "M = open ('File Handling.txt ','r')\n",
    "for line in M:\n",
    "    print (M.readline())\n",
    "    \n",
    "    \n",
    "        "
   ]
  },
  {
   "cell_type": "code",
   "execution_count": 2,
   "metadata": {},
   "outputs": [
    {
     "name": "stdout",
     "output_type": "stream",
     "text": [
      "Marks of student , Muhmmad :- \n",
      "Maths = 98  \n",
      "Biology = 97   \n",
      "English = 94\n",
      " \n",
      "Marks of student , Usman :- \n",
      "Maths = 87  \n",
      "Biology = 89   \n",
      "English = 91\n",
      " \n",
      "Marks of student , Ghani :- \n",
      "Maths = 88  \n",
      "Biology = 99   \n",
      "English = 100\n",
      " \n",
      "Marks of student , Danish :- \n",
      "Maths = 77  \n",
      "Biology = 88   \n",
      "English = 99 \n"
     ]
    }
   ],
   "source": [
    "Students = [\"Muhmmad\",\"Usman\",\"Ghani\",\"Danish\"]\n",
    "with open('Marks.txt', 'r') as M:\n",
    "    for i , line in enumerate(M):\n",
    "        print(f\"Marks of student , {Students[i]} :- \\nMaths = {line.split(',')[0]}  \\nBiology = {line.split(',')[1]}   \\nEnglish = {line.split(',')[2]} \")\n",
    "        \n",
    "    \n"
   ]
  },
  {
   "cell_type": "code",
   "execution_count": 10,
   "metadata": {},
   "outputs": [
    {
     "name": "stdout",
     "output_type": "stream",
     "text": [
      "94\n",
      "87,89,9\n",
      "87,89,91\n",
      "88,99,100\n",
      "7\n",
      "TEll : 32\n"
     ]
    }
   ],
   "source": [
    "with open('Marks.txt', 'r') as M:\n",
    "    M.seek(6)\n",
    "    print (M.read(10))\n",
    "    \n",
    "    M.seek(10)\n",
    "    print (M.read(20))"
   ]
  },
  {
   "cell_type": "code",
   "execution_count": 14,
   "metadata": {},
   "outputs": [
    {
     "name": "stdout",
     "output_type": "stream",
     "text": [
      "Here is th\n"
     ]
    }
   ],
   "source": [
    "with open ('Truncate.txt', 'w') as A:\n",
    "    A.write(\"Here is the truncate Function\")\n",
    "    A.truncate(10)\n",
    "    \n",
    "with open ('Truncate.txt', 'r') as B:    \n",
    "    print (B.read())\n",
    "    "
   ]
  },
  {
   "cell_type": "code",
   "execution_count": null,
   "metadata": {},
   "outputs": [],
   "source": []
  }
 ],
 "metadata": {
  "kernelspec": {
   "display_name": "Python 3",
   "language": "python",
   "name": "python3"
  },
  "language_info": {
   "codemirror_mode": {
    "name": "ipython",
    "version": 3
   },
   "file_extension": ".py",
   "mimetype": "text/x-python",
   "name": "python",
   "nbconvert_exporter": "python",
   "pygments_lexer": "ipython3",
   "version": "3.12.3"
  }
 },
 "nbformat": 4,
 "nbformat_minor": 2
}
