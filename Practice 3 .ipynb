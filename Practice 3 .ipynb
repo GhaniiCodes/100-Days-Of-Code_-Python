{
 "cells": [
  {
   "cell_type": "code",
   "execution_count": 1,
   "metadata": {},
   "outputs": [],
   "source": [
    "with open (\"Students Marks .txt\",'w') as M:\n",
    "    M.write(\"\"\"John : 85\n",
    "Emily : 92\n",
    "Michael : 78\n",
    "Sarah : 88\n",
    "David : 76\n",
    "Jessica : 90\n",
    "James : 82\n",
    "Emma : 85\n",
    "Jacob : 79\n",
    "Olivia : 91\n",
    "Matthew : 84\n",
    "Sophia : 89\n",
    "Ethan : 77\n",
    "Isabella : 93\n",
    "William : 80\n",
    "Ava : 87\n",
    "Alexander : 83\n",
    "Mia : 94\n",
    "Benjamin : 81\n",
    "Harper : 86\"\"\")"
   ]
  },
  {
   "cell_type": "code",
   "execution_count": 5,
   "metadata": {},
   "outputs": [
    {
     "name": "stdout",
     "output_type": "stream",
     "text": [
      "{'John ': 85, 'Emily ': 92, 'Michael ': 78, 'Sarah ': 88, 'David ': 76, 'Jessica ': 90, 'James ': 82, 'Emma ': 85, 'Jacob ': 79, 'Olivia ': 91, 'Matthew ': 84, 'Sophia ': 89, 'Ethan ': 77, 'Isabella ': 93, 'William ': 80, 'Ava ': 87, 'Alexander ': 83, 'Mia ': 94, 'Benjamin ': 81, 'Harper ': 86}\n"
     ]
    }
   ],
   "source": [
    "with open (\"Students Marks .txt\",'r') as M:\n",
    "    \n",
    "    Marks = {}\n",
    "    for line in M:\n",
    "        Name , Mark = line.split(\":\")\n",
    "        Marks[Name] = int(Mark)\n",
    "        \n",
    "\n",
    "print (Marks)\n"
   ]
  },
  {
   "cell_type": "code",
   "execution_count": 8,
   "metadata": {},
   "outputs": [],
   "source": [
    "with open (\"Students Marks .txt\",'a') as M:\n",
    "    M.write(\"\"\"\\nMuhammad : 90\n",
    "            Usman : 99\n",
    "            Ghani 100\"\"\")    \n"
   ]
  },
  {
   "cell_type": "code",
   "execution_count": 9,
   "metadata": {},
   "outputs": [
    {
     "name": "stdout",
     "output_type": "stream",
     "text": [
      "John : 85\n",
      "Emily : 92\n",
      "Michael : 78\n",
      "Sarah : 88\n",
      "David : 76\n",
      "Jessica : 90\n",
      "James : 82\n",
      "Emma : 85\n",
      "Jacob : 79\n",
      "Olivia : 91\n",
      "Matthew : 84\n",
      "Sophia : 89\n",
      "Ethan : 77\n",
      "Isabella : 93\n",
      "William : 80\n",
      "Ava : 87\n",
      "Alexander : 83\n",
      "Mia : 94\n",
      "Benjamin : 81\n",
      "Harper : 86Muhammad : 90\n",
      "            Usman : 99\n",
      "            Ghani 100\n",
      "Muhammad : 90\n",
      "            Usman : 99\n",
      "            Ghani 100\n"
     ]
    }
   ],
   "source": [
    "with open (\"Students Marks .txt\",'r') as M:\n",
    "    print (M.read())"
   ]
  },
  {
   "cell_type": "code",
   "execution_count": null,
   "metadata": {},
   "outputs": [],
   "source": []
  }
 ],
 "metadata": {
  "kernelspec": {
   "display_name": "Python 3",
   "language": "python",
   "name": "python3"
  },
  "language_info": {
   "codemirror_mode": {
    "name": "ipython",
    "version": 3
   },
   "file_extension": ".py",
   "mimetype": "text/x-python",
   "name": "python",
   "nbconvert_exporter": "python",
   "pygments_lexer": "ipython3",
   "version": "3.12.3"
  }
 },
 "nbformat": 4,
 "nbformat_minor": 2
}
