{
 "cells": [
  {
   "cell_type": "code",
   "execution_count": 1,
   "metadata": {},
   "outputs": [],
   "source": [
    "import time"
   ]
  },
  {
   "cell_type": "code",
   "execution_count": 2,
   "metadata": {},
   "outputs": [
    {
     "name": "stdout",
     "output_type": "stream",
     "text": [
      "1723192564.846879\n"
     ]
    }
   ],
   "source": [
    "print (time.time())        #show time from 1970 in seconds "
   ]
  },
  {
   "cell_type": "code",
   "execution_count": 4,
   "metadata": {},
   "outputs": [
    {
     "name": "stdout",
     "output_type": "stream",
     "text": [
      "time.struct_time(tm_year=2024, tm_mon=8, tm_mday=9, tm_hour=13, tm_min=37, tm_sec=3, tm_wday=4, tm_yday=222, tm_isdst=0)\n"
     ]
    }
   ],
   "source": [
    "T = time.localtime()\n",
    "print (T)                       #shows th local time "
   ]
  },
  {
   "cell_type": "code",
   "execution_count": 10,
   "metadata": {},
   "outputs": [
    {
     "name": "stdout",
     "output_type": "stream",
     "text": [
      "2024\n",
      "44\n",
      "08/09/24\n",
      "2024/44/08/09/24\n",
      "13\n",
      "44\n",
      "31\n",
      "13/44/31\n",
      "2024/44/08/09/24 : 13/44/31 \n",
      "2024\n"
     ]
    }
   ],
   "source": [
    "T = time.localtime()\n",
    "print (time.strftime(\"%Y\" ,T)) #Year \n",
    "print (time.strftime(\"%M\" ,T)) #Month \n",
    "print (time.strftime(\"%D\" ,T)) #Day\n",
    "print (time.strftime(\"%Y/%M/%D\" ,T)) #Year , Month , Day\n",
    "print (time.strftime(\"%H\" ,T)) #Hour\n",
    "print (time.strftime(\"%M\" ,T)) #Minute\n",
    "print (time.strftime(\"%S\" ,T)) #Seconds\n",
    "print (time.strftime(\"%H/%M/%S\" ,T)) #Hour , Minute , Seconds \n",
    "print (time.strftime(\"%Y/%M/%D : %H/%M/%S \" ,T))\n",
    "print (time.strftime(\"%Y\" ,T))"
   ]
  },
  {
   "cell_type": "code",
   "execution_count": null,
   "metadata": {},
   "outputs": [],
   "source": []
  },
  {
   "cell_type": "code",
   "execution_count": null,
   "metadata": {},
   "outputs": [],
   "source": []
  }
 ],
 "metadata": {
  "kernelspec": {
   "display_name": "Python 3",
   "language": "python",
   "name": "python3"
  },
  "language_info": {
   "codemirror_mode": {
    "name": "ipython",
    "version": 3
   },
   "file_extension": ".py",
   "mimetype": "text/x-python",
   "name": "python",
   "nbconvert_exporter": "python",
   "pygments_lexer": "ipython3",
   "version": "3.12.3"
  }
 },
 "nbformat": 4,
 "nbformat_minor": 2
}
