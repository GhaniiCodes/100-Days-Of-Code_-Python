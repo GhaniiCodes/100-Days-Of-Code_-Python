import collections

with open(r"D:\PYTHON\Oracle.txt", "r") as file:
    text = file.read()

words = text.split()

frequency = collections.Counter(words)

sorted_frequency = frequency.most_common()

for word, count  in sorted_frequency:
    print(f"{word}: {count}")