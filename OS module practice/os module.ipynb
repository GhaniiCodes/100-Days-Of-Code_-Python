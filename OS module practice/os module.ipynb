{
 "cells": [
  {
   "cell_type": "code",
   "execution_count": 1,
   "metadata": {},
   "outputs": [],
   "source": [
    "import os"
   ]
  },
  {
   "cell_type": "markdown",
   "metadata": {},
   "source": [
    "Getting and Changing Directory"
   ]
  },
  {
   "cell_type": "code",
   "execution_count": 2,
   "metadata": {},
   "outputs": [
    {
     "name": "stdout",
     "output_type": "stream",
     "text": [
      "Current Directory :  d:\\OS module practice\n",
      "Changed Directory :  D:\\C ++\n",
      "Changed Again  D:\\OS module practice\n"
     ]
    },
    {
     "name": "stderr",
     "output_type": "stream",
     "text": [
      "<>:3: SyntaxWarning: invalid escape sequence '\\C'\n",
      "<>:6: SyntaxWarning: invalid escape sequence '\\O'\n",
      "<>:3: SyntaxWarning: invalid escape sequence '\\C'\n",
      "<>:6: SyntaxWarning: invalid escape sequence '\\O'\n",
      "C:\\Users\\Usman\\AppData\\Local\\Temp\\ipykernel_742124\\3422066032.py:3: SyntaxWarning: invalid escape sequence '\\C'\n",
      "  os.chdir(\"D:\\C ++\")   # Changing Directory\n",
      "C:\\Users\\Usman\\AppData\\Local\\Temp\\ipykernel_742124\\3422066032.py:6: SyntaxWarning: invalid escape sequence '\\O'\n",
      "  os.chdir(\"D:\\OS module practice\")\n"
     ]
    }
   ],
   "source": [
    "print(\"Current Directory : \", os.getcwd())\n",
    "\n",
    "os.chdir(\"D:\\C ++\")   # Changing Directory\n",
    "print (\"Changed Directory : \", os.getcwd())\n",
    "\n",
    "os.chdir(\"D:\\OS module practice\")\n",
    "print (\"Changed Again \",os.getcwd())"
   ]
  },
  {
   "cell_type": "markdown",
   "metadata": {},
   "source": [
    "To show files in a Directory\n"
   ]
  },
  {
   "cell_type": "code",
   "execution_count": 3,
   "metadata": {},
   "outputs": [
    {
     "name": "stdout",
     "output_type": "stream",
     "text": [
      "['Cohort 2 - 1 Week Sessions Afternoon Batch (2PM).xlsx', 'Constraints_Database.txt', 'continue and Break.py', 'data types.py', 'Day 0', 'Day 1', 'Day 10', 'Day 11', 'Day 12', 'Day 13', 'Day 14', 'Day 15', 'Day 16', 'Day 17', 'Day 18', 'Day 19', 'Day 2', 'Day 20', 'Day 21', 'Day 22', 'Day 23', 'Day 24', 'Day 25', 'Day 26', 'Day 27', 'Day 28', 'Day 29', 'Day 3', 'Day 30', 'Day 31', 'Day 32', 'Day 33', 'Day 34', 'Day 35', 'Day 36', 'Day 37', 'Day 38', 'Day 39', 'Day 4', 'Day 40', 'Day 41', 'Day 42', 'Day 43', 'Day 44', 'Day 45', 'Day 46', 'Day 47', 'Day 48', 'Day 49', 'Day 5', 'Day 50', 'Day 51', 'Day 52', 'Day 53', 'Day 54', 'Day 55', 'Day 56', 'Day 57', 'Day 58', 'Day 59', 'Day 6', 'Day 60', 'Day 61', 'Day 62', 'Day 63', 'Day 64', 'Day 65', 'Day 66', 'Day 67', 'Day 68', 'Day 69', 'Day 7', 'Day 70', 'Day 71', 'Day 72', 'Day 73', 'Day 74', 'Day 75', 'Day 76', 'Day 77', 'Day 78', 'Day 79', 'Day 8', 'Day 80', 'Day 81', 'Day 82', 'Day 83', 'Day 84', 'Day 85', 'Day 86', 'Day 87', 'Day 88', 'Day 89', 'Day 9', 'Day 90', 'Day 91', 'Day 92', 'Day 93', 'Day 94', 'Day 95', 'Day 96', 'Day 97', 'Day 98', 'Day 99', 'ENGLISH (Phrasal Verb).docx', 'Ethical-Considerations-in-Data-Science.pptx', 'hskhawaja@live.com.txt', 'Image.jpg', 'Learn Python The Hard Way 3rd Edition V413HAV.pdf', 'module os 10', 'New 2', 'New 3', 'Oracle.txt', 'os module .py', 'OS module 2', 'os module.ipynb', 'Pink Blue Powerful Sunrise Over the Sea Quote Instagram Post.png', 'Practice.docx', 'Python', 'tempCodeRunnerFile.py', 'uefa-champions-league-2023-24.jpg']\n"
     ]
    }
   ],
   "source": [
    "print (os.listdir()) # To show files in current Directory \n"
   ]
  },
  {
   "cell_type": "markdown",
   "metadata": {},
   "source": [
    "Making a File in Dorectory\n"
   ]
  },
  {
   "cell_type": "code",
   "execution_count": 6,
   "metadata": {},
   "outputs": [],
   "source": [
    "os.mkdir(\"module os 10\")"
   ]
  },
  {
   "cell_type": "code",
   "execution_count": 30,
   "metadata": {},
   "outputs": [],
   "source": [
    "for i in range(100):\n",
    "    os.mkdir(f\"Day {i}\")"
   ]
  },
  {
   "cell_type": "code",
   "execution_count": 8,
   "metadata": {},
   "outputs": [],
   "source": [
    "os.makedirs(\"Python/Day 49\")"
   ]
  },
  {
   "cell_type": "code",
   "execution_count": 9,
   "metadata": {},
   "outputs": [],
   "source": [
    "os.makedirs(\"100 days/day 60\")"
   ]
  },
  {
   "cell_type": "code",
   "execution_count": 17,
   "metadata": {},
   "outputs": [],
   "source": [
    "os.makedirs(\"Day 99/The end\")"
   ]
  },
  {
   "cell_type": "code",
   "execution_count": 18,
   "metadata": {},
   "outputs": [],
   "source": [
    "os.makedirs(\"Day 10/usman.txt\")"
   ]
  },
  {
   "cell_type": "markdown",
   "metadata": {},
   "source": [
    "Removing Directory"
   ]
  },
  {
   "cell_type": "code",
   "execution_count": 10,
   "metadata": {},
   "outputs": [],
   "source": [
    "os.rmdir(\"New\")"
   ]
  },
  {
   "cell_type": "code",
   "execution_count": 12,
   "metadata": {},
   "outputs": [],
   "source": [
    "os.removedirs(\"100 days/day 60\")"
   ]
  },
  {
   "cell_type": "markdown",
   "metadata": {},
   "source": [
    "Renaming File\n"
   ]
  },
  {
   "cell_type": "code",
   "execution_count": 14,
   "metadata": {},
   "outputs": [],
   "source": [
    "os.rename(\"Picture.jpg\" , \"Image.jpg\")\n",
    "os.renames('4a-Oracle-SQL_Lect.txt' , \"Oracle.txt\")"
   ]
  },
  {
   "cell_type": "markdown",
   "metadata": {},
   "source": [
    "Information About a specific File \n"
   ]
  },
  {
   "cell_type": "code",
   "execution_count": 20,
   "metadata": {},
   "outputs": [
    {
     "name": "stdout",
     "output_type": "stream",
     "text": [
      "os.stat_result(st_mode=33206, st_ino=11821949021938760, st_dev=9538844009209270586, st_nlink=1, st_uid=0, st_gid=0, st_size=1602701, st_atime=1719827203, st_mtime=1709635253, st_ctime=1719827203)\n",
      "os.stat_result(st_mode=33206, st_ino=22517998136943671, st_dev=9538844009209270586, st_nlink=1, st_uid=0, st_gid=0, st_size=213, st_atime=1719997685, st_mtime=1716922476, st_ctime=1719827186)\n",
      "1602701\n",
      "213\n",
      "1709635253.4894195\n",
      "1716922476.9901423\n"
     ]
    }
   ],
   "source": [
    "print(os.stat(\"Pink Blue Powerful Sunrise Over the Sea Quote Instagram Post.png\"))\n",
    "print(os.stat(\"continue and Break.py\"))\n",
    "print(os.stat(\"Pink Blue Powerful Sunrise Over the Sea Quote Instagram Post.png\").st_size)\n",
    "print(os.stat(\"continue and Break.py\").st_size)\n",
    "print(os.stat(\"Pink Blue Powerful Sunrise Over the Sea Quote Instagram Post.png\").st_mtime)\n",
    "print(os.stat(\"continue and Break.py\").st_mtime)\n",
    "# mtime show the last modification time\n"
   ]
  },
  {
   "cell_type": "code",
   "execution_count": 26,
   "metadata": {},
   "outputs": [],
   "source": [
    "# to change the mtime to human readable form we will impoort the \"datetime\"\n",
    "from datetime import datetime\n"
   ]
  },
  {
   "cell_type": "code",
   "execution_count": 31,
   "metadata": {},
   "outputs": [
    {
     "name": "stdout",
     "output_type": "stream",
     "text": [
      "Before the date time module : \n",
      "1709635253.4894195\n",
      "1716922476.9901423\n",
      "\n",
      "\n",
      "after the date time module : \n",
      "2024-03-05 15:40:53.489419\n",
      "2024-05-28 23:54:36.990142\n"
     ]
    }
   ],
   "source": [
    "print (\"Before the date time module : \")\n",
    "print(os.stat(\"Pink Blue Powerful Sunrise Over the Sea Quote Instagram Post.png\").st_mtime)\n",
    "print(os.stat(\"continue and Break.py\").st_mtime)\n",
    "\n",
    "\n",
    "print (\"\\n\\nafter the date time module : \")\n",
    "Last_modification_1 = os.stat(\"Pink Blue Powerful Sunrise Over the Sea Quote Instagram Post.png\").st_mtime\n",
    "Last_modification_2 = os.stat(\"continue and Break.py\").st_mtime\n",
    "print (datetime.fromtimestamp(Last_modification_1))\n",
    "print (datetime.fromtimestamp(Last_modification_2))"
   ]
  },
  {
   "cell_type": "markdown",
   "metadata": {},
   "source": [
    "To see the path of Directory and all the Files with in it"
   ]
  },
  {
   "cell_type": "code",
   "execution_count": 32,
   "metadata": {},
   "outputs": [
    {
     "name": "stdout",
     "output_type": "stream",
     "text": [
      "Directory path : D:\\OS module practice\n",
      "Directory Name : ['Day 0', 'Day 1', 'Day 10', 'Day 11', 'Day 12', 'Day 13', 'Day 14', 'Day 15', 'Day 16', 'Day 17', 'Day 18', 'Day 19', 'Day 2', 'Day 20', 'Day 21', 'Day 22', 'Day 23', 'Day 24', 'Day 25', 'Day 26', 'Day 27', 'Day 28', 'Day 29', 'Day 3', 'Day 30', 'Day 31', 'Day 32', 'Day 33', 'Day 34', 'Day 35', 'Day 36', 'Day 37', 'Day 38', 'Day 39', 'Day 4', 'Day 40', 'Day 41', 'Day 42', 'Day 43', 'Day 44', 'Day 45', 'Day 46', 'Day 47', 'Day 48', 'Day 49', 'Day 5', 'Day 50', 'Day 51', 'Day 52', 'Day 53', 'Day 54', 'Day 55', 'Day 56', 'Day 57', 'Day 58', 'Day 59', 'Day 6', 'Day 60', 'Day 61', 'Day 62', 'Day 63', 'Day 64', 'Day 65', 'Day 66', 'Day 67', 'Day 68', 'Day 69', 'Day 7', 'Day 70', 'Day 71', 'Day 72', 'Day 73', 'Day 74', 'Day 75', 'Day 76', 'Day 77', 'Day 78', 'Day 79', 'Day 8', 'Day 80', 'Day 81', 'Day 82', 'Day 83', 'Day 84', 'Day 85', 'Day 86', 'Day 87', 'Day 88', 'Day 89', 'Day 9', 'Day 90', 'Day 91', 'Day 92', 'Day 93', 'Day 94', 'Day 95', 'Day 96', 'Day 97', 'Day 98', 'Day 99', 'module os 10', 'New 2', 'New 3', 'OS module 2', 'Python']\n",
      "File name ['Cohort 2 - 1 Week Sessions Afternoon Batch (2PM).xlsx', 'Constraints_Database.txt', 'continue and Break.py', 'data types.py', 'ENGLISH (Phrasal Verb).docx', 'Ethical-Considerations-in-Data-Science.pptx', 'hskhawaja@live.com.txt', 'Image.jpg', 'Learn Python The Hard Way 3rd Edition V413HAV.pdf', 'Oracle.txt', 'os module .py', 'os module.ipynb', 'Pink Blue Powerful Sunrise Over the Sea Quote Instagram Post.png', 'Practice.docx', 'tempCodeRunnerFile.py', 'uefa-champions-league-2023-24.jpg']\n",
      "\n",
      "Directory path : D:\\OS module practice\\Day 0\n",
      "Directory Name : []\n",
      "File name []\n",
      "\n",
      "Directory path : D:\\OS module practice\\Day 1\n",
      "Directory Name : []\n",
      "File name []\n",
      "\n",
      "Directory path : D:\\OS module practice\\Day 10\n",
      "Directory Name : []\n",
      "File name []\n",
      "\n",
      "Directory path : D:\\OS module practice\\Day 11\n",
      "Directory Name : []\n",
      "File name []\n",
      "\n",
      "Directory path : D:\\OS module practice\\Day 12\n",
      "Directory Name : []\n",
      "File name []\n",
      "\n",
      "Directory path : D:\\OS module practice\\Day 13\n",
      "Directory Name : []\n",
      "File name []\n",
      "\n",
      "Directory path : D:\\OS module practice\\Day 14\n",
      "Directory Name : []\n",
      "File name []\n",
      "\n",
      "Directory path : D:\\OS module practice\\Day 15\n",
      "Directory Name : []\n",
      "File name []\n",
      "\n",
      "Directory path : D:\\OS module practice\\Day 16\n",
      "Directory Name : []\n",
      "File name []\n",
      "\n",
      "Directory path : D:\\OS module practice\\Day 17\n",
      "Directory Name : []\n",
      "File name []\n",
      "\n",
      "Directory path : D:\\OS module practice\\Day 18\n",
      "Directory Name : []\n",
      "File name []\n",
      "\n",
      "Directory path : D:\\OS module practice\\Day 19\n",
      "Directory Name : []\n",
      "File name []\n",
      "\n",
      "Directory path : D:\\OS module practice\\Day 2\n",
      "Directory Name : []\n",
      "File name []\n",
      "\n",
      "Directory path : D:\\OS module practice\\Day 20\n",
      "Directory Name : []\n",
      "File name []\n",
      "\n",
      "Directory path : D:\\OS module practice\\Day 21\n",
      "Directory Name : []\n",
      "File name []\n",
      "\n",
      "Directory path : D:\\OS module practice\\Day 22\n",
      "Directory Name : []\n",
      "File name []\n",
      "\n",
      "Directory path : D:\\OS module practice\\Day 23\n",
      "Directory Name : []\n",
      "File name []\n",
      "\n",
      "Directory path : D:\\OS module practice\\Day 24\n",
      "Directory Name : []\n",
      "File name []\n",
      "\n",
      "Directory path : D:\\OS module practice\\Day 25\n",
      "Directory Name : []\n",
      "File name []\n",
      "\n",
      "Directory path : D:\\OS module practice\\Day 26\n",
      "Directory Name : []\n",
      "File name []\n",
      "\n",
      "Directory path : D:\\OS module practice\\Day 27\n",
      "Directory Name : []\n",
      "File name []\n",
      "\n",
      "Directory path : D:\\OS module practice\\Day 28\n",
      "Directory Name : []\n",
      "File name []\n",
      "\n",
      "Directory path : D:\\OS module practice\\Day 29\n",
      "Directory Name : []\n",
      "File name []\n",
      "\n",
      "Directory path : D:\\OS module practice\\Day 3\n",
      "Directory Name : []\n",
      "File name []\n",
      "\n",
      "Directory path : D:\\OS module practice\\Day 30\n",
      "Directory Name : []\n",
      "File name []\n",
      "\n",
      "Directory path : D:\\OS module practice\\Day 31\n",
      "Directory Name : []\n",
      "File name []\n",
      "\n",
      "Directory path : D:\\OS module practice\\Day 32\n",
      "Directory Name : []\n",
      "File name []\n",
      "\n",
      "Directory path : D:\\OS module practice\\Day 33\n",
      "Directory Name : []\n",
      "File name []\n",
      "\n",
      "Directory path : D:\\OS module practice\\Day 34\n",
      "Directory Name : []\n",
      "File name []\n",
      "\n",
      "Directory path : D:\\OS module practice\\Day 35\n",
      "Directory Name : []\n",
      "File name []\n",
      "\n",
      "Directory path : D:\\OS module practice\\Day 36\n",
      "Directory Name : []\n",
      "File name []\n",
      "\n",
      "Directory path : D:\\OS module practice\\Day 37\n",
      "Directory Name : []\n",
      "File name []\n",
      "\n",
      "Directory path : D:\\OS module practice\\Day 38\n",
      "Directory Name : []\n",
      "File name []\n",
      "\n",
      "Directory path : D:\\OS module practice\\Day 39\n",
      "Directory Name : []\n",
      "File name []\n",
      "\n",
      "Directory path : D:\\OS module practice\\Day 4\n",
      "Directory Name : []\n",
      "File name []\n",
      "\n",
      "Directory path : D:\\OS module practice\\Day 40\n",
      "Directory Name : []\n",
      "File name []\n",
      "\n",
      "Directory path : D:\\OS module practice\\Day 41\n",
      "Directory Name : []\n",
      "File name []\n",
      "\n",
      "Directory path : D:\\OS module practice\\Day 42\n",
      "Directory Name : []\n",
      "File name []\n",
      "\n",
      "Directory path : D:\\OS module practice\\Day 43\n",
      "Directory Name : []\n",
      "File name []\n",
      "\n",
      "Directory path : D:\\OS module practice\\Day 44\n",
      "Directory Name : []\n",
      "File name []\n",
      "\n",
      "Directory path : D:\\OS module practice\\Day 45\n",
      "Directory Name : []\n",
      "File name []\n",
      "\n",
      "Directory path : D:\\OS module practice\\Day 46\n",
      "Directory Name : []\n",
      "File name []\n",
      "\n",
      "Directory path : D:\\OS module practice\\Day 47\n",
      "Directory Name : []\n",
      "File name []\n",
      "\n",
      "Directory path : D:\\OS module practice\\Day 48\n",
      "Directory Name : []\n",
      "File name []\n",
      "\n",
      "Directory path : D:\\OS module practice\\Day 49\n",
      "Directory Name : []\n",
      "File name []\n",
      "\n",
      "Directory path : D:\\OS module practice\\Day 5\n",
      "Directory Name : []\n",
      "File name []\n",
      "\n",
      "Directory path : D:\\OS module practice\\Day 50\n",
      "Directory Name : []\n",
      "File name []\n",
      "\n",
      "Directory path : D:\\OS module practice\\Day 51\n",
      "Directory Name : []\n",
      "File name []\n",
      "\n",
      "Directory path : D:\\OS module practice\\Day 52\n",
      "Directory Name : []\n",
      "File name []\n",
      "\n",
      "Directory path : D:\\OS module practice\\Day 53\n",
      "Directory Name : []\n",
      "File name []\n",
      "\n",
      "Directory path : D:\\OS module practice\\Day 54\n",
      "Directory Name : []\n",
      "File name []\n",
      "\n",
      "Directory path : D:\\OS module practice\\Day 55\n",
      "Directory Name : []\n",
      "File name []\n",
      "\n",
      "Directory path : D:\\OS module practice\\Day 56\n",
      "Directory Name : []\n",
      "File name []\n",
      "\n",
      "Directory path : D:\\OS module practice\\Day 57\n",
      "Directory Name : []\n",
      "File name []\n",
      "\n",
      "Directory path : D:\\OS module practice\\Day 58\n",
      "Directory Name : []\n",
      "File name []\n",
      "\n",
      "Directory path : D:\\OS module practice\\Day 59\n",
      "Directory Name : []\n",
      "File name []\n",
      "\n",
      "Directory path : D:\\OS module practice\\Day 6\n",
      "Directory Name : []\n",
      "File name []\n",
      "\n",
      "Directory path : D:\\OS module practice\\Day 60\n",
      "Directory Name : []\n",
      "File name []\n",
      "\n",
      "Directory path : D:\\OS module practice\\Day 61\n",
      "Directory Name : []\n",
      "File name []\n",
      "\n",
      "Directory path : D:\\OS module practice\\Day 62\n",
      "Directory Name : []\n",
      "File name []\n",
      "\n",
      "Directory path : D:\\OS module practice\\Day 63\n",
      "Directory Name : []\n",
      "File name []\n",
      "\n",
      "Directory path : D:\\OS module practice\\Day 64\n",
      "Directory Name : []\n",
      "File name []\n",
      "\n",
      "Directory path : D:\\OS module practice\\Day 65\n",
      "Directory Name : []\n",
      "File name []\n",
      "\n",
      "Directory path : D:\\OS module practice\\Day 66\n",
      "Directory Name : []\n",
      "File name []\n",
      "\n",
      "Directory path : D:\\OS module practice\\Day 67\n",
      "Directory Name : []\n",
      "File name []\n",
      "\n",
      "Directory path : D:\\OS module practice\\Day 68\n",
      "Directory Name : []\n",
      "File name []\n",
      "\n",
      "Directory path : D:\\OS module practice\\Day 69\n",
      "Directory Name : []\n",
      "File name []\n",
      "\n",
      "Directory path : D:\\OS module practice\\Day 7\n",
      "Directory Name : []\n",
      "File name []\n",
      "\n",
      "Directory path : D:\\OS module practice\\Day 70\n",
      "Directory Name : []\n",
      "File name []\n",
      "\n",
      "Directory path : D:\\OS module practice\\Day 71\n",
      "Directory Name : []\n",
      "File name []\n",
      "\n",
      "Directory path : D:\\OS module practice\\Day 72\n",
      "Directory Name : []\n",
      "File name []\n",
      "\n",
      "Directory path : D:\\OS module practice\\Day 73\n",
      "Directory Name : []\n",
      "File name []\n",
      "\n",
      "Directory path : D:\\OS module practice\\Day 74\n",
      "Directory Name : []\n",
      "File name []\n",
      "\n",
      "Directory path : D:\\OS module practice\\Day 75\n",
      "Directory Name : []\n",
      "File name []\n",
      "\n",
      "Directory path : D:\\OS module practice\\Day 76\n",
      "Directory Name : []\n",
      "File name []\n",
      "\n",
      "Directory path : D:\\OS module practice\\Day 77\n",
      "Directory Name : []\n",
      "File name []\n",
      "\n",
      "Directory path : D:\\OS module practice\\Day 78\n",
      "Directory Name : []\n",
      "File name []\n",
      "\n",
      "Directory path : D:\\OS module practice\\Day 79\n",
      "Directory Name : []\n",
      "File name []\n",
      "\n",
      "Directory path : D:\\OS module practice\\Day 8\n",
      "Directory Name : []\n",
      "File name []\n",
      "\n",
      "Directory path : D:\\OS module practice\\Day 80\n",
      "Directory Name : []\n",
      "File name []\n",
      "\n",
      "Directory path : D:\\OS module practice\\Day 81\n",
      "Directory Name : []\n",
      "File name []\n",
      "\n",
      "Directory path : D:\\OS module practice\\Day 82\n",
      "Directory Name : []\n",
      "File name []\n",
      "\n",
      "Directory path : D:\\OS module practice\\Day 83\n",
      "Directory Name : []\n",
      "File name []\n",
      "\n",
      "Directory path : D:\\OS module practice\\Day 84\n",
      "Directory Name : []\n",
      "File name []\n",
      "\n",
      "Directory path : D:\\OS module practice\\Day 85\n",
      "Directory Name : []\n",
      "File name []\n",
      "\n",
      "Directory path : D:\\OS module practice\\Day 86\n",
      "Directory Name : []\n",
      "File name []\n",
      "\n",
      "Directory path : D:\\OS module practice\\Day 87\n",
      "Directory Name : []\n",
      "File name []\n",
      "\n",
      "Directory path : D:\\OS module practice\\Day 88\n",
      "Directory Name : []\n",
      "File name []\n",
      "\n",
      "Directory path : D:\\OS module practice\\Day 89\n",
      "Directory Name : []\n",
      "File name []\n",
      "\n",
      "Directory path : D:\\OS module practice\\Day 9\n",
      "Directory Name : []\n",
      "File name []\n",
      "\n",
      "Directory path : D:\\OS module practice\\Day 90\n",
      "Directory Name : []\n",
      "File name []\n",
      "\n",
      "Directory path : D:\\OS module practice\\Day 91\n",
      "Directory Name : []\n",
      "File name []\n",
      "\n",
      "Directory path : D:\\OS module practice\\Day 92\n",
      "Directory Name : []\n",
      "File name []\n",
      "\n",
      "Directory path : D:\\OS module practice\\Day 93\n",
      "Directory Name : []\n",
      "File name []\n",
      "\n",
      "Directory path : D:\\OS module practice\\Day 94\n",
      "Directory Name : []\n",
      "File name []\n",
      "\n",
      "Directory path : D:\\OS module practice\\Day 95\n",
      "Directory Name : []\n",
      "File name []\n",
      "\n",
      "Directory path : D:\\OS module practice\\Day 96\n",
      "Directory Name : []\n",
      "File name []\n",
      "\n",
      "Directory path : D:\\OS module practice\\Day 97\n",
      "Directory Name : []\n",
      "File name []\n",
      "\n",
      "Directory path : D:\\OS module practice\\Day 98\n",
      "Directory Name : []\n",
      "File name []\n",
      "\n",
      "Directory path : D:\\OS module practice\\Day 99\n",
      "Directory Name : []\n",
      "File name []\n",
      "\n",
      "Directory path : D:\\OS module practice\\module os 10\n",
      "Directory Name : []\n",
      "File name []\n",
      "\n",
      "Directory path : D:\\OS module practice\\New 2\n",
      "Directory Name : []\n",
      "File name []\n",
      "\n",
      "Directory path : D:\\OS module practice\\New 3\n",
      "Directory Name : []\n",
      "File name []\n",
      "\n",
      "Directory path : D:\\OS module practice\\OS module 2\n",
      "Directory Name : []\n",
      "File name []\n",
      "\n",
      "Directory path : D:\\OS module practice\\Python\n",
      "Directory Name : ['Day 49']\n",
      "File name []\n",
      "\n",
      "Directory path : D:\\OS module practice\\Python\\Day 49\n",
      "Directory Name : []\n",
      "File name []\n",
      "\n"
     ]
    }
   ],
   "source": [
    "for dirpath, dirnames, filenames in os.walk(os.getcwd()):\n",
    "    print (\"Directory path :\", dirpath)\n",
    "    print (\"Directory Name :\", dirnames)\n",
    "    print (\"File name\", filenames)\n",
    "    print ()"
   ]
  },
  {
   "cell_type": "markdown",
   "metadata": {},
   "source": [
    "To get the enviroment Variable \n",
    "* Environment Variables are key-value pairs configured outside your source code so that each value can change depending on the Environment."
   ]
  },
  {
   "cell_type": "code",
   "execution_count": 34,
   "metadata": {},
   "outputs": [
    {
     "data": {
      "text/plain": [
       "environ{'ALLUSERSPROFILE': 'C:\\\\ProgramData',\n",
       "        'APPDATA': 'C:\\\\Users\\\\Usman\\\\AppData\\\\Roaming',\n",
       "        'APPLICATION_INSIGHTS_NO_DIAGNOSTIC_CHANNEL': '1',\n",
       "        'C:\\\\USERS\\\\USMAN\\\\APPDATA\\\\ROAMING\\\\PYTHON\\\\PYTHON312\\\\SCRIPTS': 'pandas',\n",
       "        'CHROME_CRASHPAD_PIPE_NAME': '\\\\\\\\.\\\\pipe\\\\crashpad_47984_LXEDKBAPQJXWKQSK',\n",
       "        'COMMONPROGRAMFILES': 'C:\\\\Program Files\\\\Common Files',\n",
       "        'COMMONPROGRAMFILES(X86)': 'C:\\\\Program Files (x86)\\\\Common Files',\n",
       "        'COMMONPROGRAMW6432': 'C:\\\\Program Files\\\\Common Files',\n",
       "        'COMPILER': 'C:\\\\MinGW\\\\bin\\\\mingw-get.exe',\n",
       "        'COMPUTERNAME': 'DESKTOP-CNVN8DD',\n",
       "        'COMSPEC': 'C:\\\\WINDOWS\\\\system32\\\\cmd.exe',\n",
       "        'DRIVERDATA': 'C:\\\\Windows\\\\System32\\\\Drivers\\\\DriverData',\n",
       "        'EFC_376468': '1',\n",
       "        'ELECTRON_RUN_AS_NODE': '1',\n",
       "        'HOMEDRIVE': 'C:',\n",
       "        'HOMEPATH': '\\\\Users\\\\Usman',\n",
       "        'JPY_INTERRUPT_EVENT': '1688',\n",
       "        'JUPYTER': \"'C:\\\\Users\\\\Usman\\\\AppData\\\\Roaming\\\\Python\\\\Python312\\\\Scripts'\",\n",
       "        'LOCALAPPDATA': 'C:\\\\Users\\\\Usman\\\\AppData\\\\Local',\n",
       "        'LOGONSERVER': '\\\\\\\\DESKTOP-CNVN8DD',\n",
       "        'NUMBER_OF_PROCESSORS': '8',\n",
       "        'ONEDRIVE': 'C:\\\\Users\\\\Usman\\\\OneDrive',\n",
       "        'ONEDRIVECONSUMER': 'C:\\\\Users\\\\Usman\\\\OneDrive',\n",
       "        'ORIGINAL_XDG_CURRENT_DESKTOP': 'undefined',\n",
       "        'OS': 'Windows_NT',\n",
       "        'PATH': 'c:\\\\Program Files\\\\Python312;c:\\\\Users\\\\Usman\\\\AppData\\\\Roaming\\\\Python\\\\Python312\\\\Scripts;C:\\\\Program Files\\\\Python312\\\\Scripts\\\\;C:\\\\Program Files\\\\Python312\\\\;D:\\\\app\\\\Usman\\\\product\\\\11.2.0\\\\dbhome_1\\\\bin;C:\\\\Program Files (x86)\\\\Common Files\\\\Oracle\\\\Java\\\\javapath;C:\\\\WINDOWS\\\\system32;C:\\\\WINDOWS;C:\\\\WINDOWS\\\\System32\\\\Wbem;C:\\\\WINDOWS\\\\System32\\\\WindowsPowerShell\\\\v1.0\\\\;C:\\\\WINDOWS\\\\System32\\\\OpenSSH\\\\;C:\\\\Program Files\\\\dotnet\\\\;C:\\\\Program Files (x86)\\\\Intel\\\\Intel(R) Management Engine Components\\\\DAL;C:\\\\Program Files\\\\Intel\\\\Intel(R) Management Engine Components\\\\DAL;C:\\\\Users\\\\Usman\\\\AppData\\\\Local\\\\Programs\\\\Python\\\\Launcher\\\\;C:\\\\Program Files\\\\MySQL\\\\MySQL Shell 8.0\\\\bin\\\\;C:\\\\Users\\\\Usman\\\\AppData\\\\Local\\\\Microsoft\\\\WindowsApps;C:\\\\Users\\\\Usman\\\\AppData\\\\Local\\\\Programs\\\\Microsoft VS Code\\\\bin;C:\\\\msys64\\\\ucrt64\\\\bin;C:\\\\Program Files\\\\MySQL\\\\MySQL Server 8.0\\\\bin;C:\\\\Users\\\\Usman\\\\AppData\\\\Local\\\\GitHubDesktop\\\\bin;C:\\\\Program Files\\\\Python312\\\\Scripts\\\\;C:\\\\Program Files\\\\Python312\\\\;D:\\\\app\\\\Usman\\\\product\\\\11.2.0\\\\dbhome_1\\\\bin;C:\\\\Program Files (x86)\\\\Common Files\\\\Oracle\\\\Java\\\\javapath;C:\\\\WINDOWS\\\\system32;C:\\\\WINDOWS;C:\\\\WINDOWS\\\\System32\\\\Wbem;C:\\\\WINDOWS\\\\System32\\\\WindowsPowerShell\\\\v1.0\\\\;C:\\\\WINDOWS\\\\System32\\\\OpenSSH\\\\;C:\\\\Program Files\\\\dotnet\\\\;C:\\\\Program Files (x86)\\\\Intel\\\\Intel(R) Management Engine Components\\\\DAL;C:\\\\Program Files\\\\Intel\\\\Intel(R) Management Engine Components\\\\DAL;C:\\\\Users\\\\Usman\\\\AppData\\\\Local\\\\Programs\\\\Python\\\\Launcher\\\\;C:\\\\Program Files\\\\MySQL\\\\MySQL Shell 8.0\\\\bin\\\\;C:\\\\Users\\\\Usman\\\\AppData\\\\Local\\\\Microsoft\\\\WindowsApps;C:\\\\Users\\\\Usman\\\\AppData\\\\Local\\\\Programs\\\\Microsoft VS Code\\\\bin;C:\\\\msys64\\\\ucrt64\\\\bin;C:\\\\Program Files\\\\MySQL\\\\MySQL Server 8.0\\\\bin;C:\\\\Users\\\\Usman\\\\AppData\\\\Local\\\\GitHubDesktop\\\\bin',\n",
       "        'PATHEXT': '.COM;.EXE;.BAT;.CMD;.VBS;.VBE;.JS;.JSE;.WSF;.WSH;.MSC;.PY;.PYW',\n",
       "        'PROCESSOR_ARCHITECTURE': 'AMD64',\n",
       "        'PROCESSOR_IDENTIFIER': 'Intel64 Family 6 Model 142 Stepping 10, GenuineIntel',\n",
       "        'PROCESSOR_LEVEL': '6',\n",
       "        'PROCESSOR_REVISION': '8e0a',\n",
       "        'PROGRAMDATA': 'C:\\\\ProgramData',\n",
       "        'PROGRAMFILES': 'C:\\\\Program Files',\n",
       "        'PROGRAMFILES(X86)': 'C:\\\\Program Files (x86)',\n",
       "        'PROGRAMW6432': 'C:\\\\Program Files',\n",
       "        'PSMODULEPATH': 'C:\\\\Program Files\\\\WindowsPowerShell\\\\Modules;C:\\\\WINDOWS\\\\system32\\\\WindowsPowerShell\\\\v1.0\\\\Modules',\n",
       "        'PUBLIC': 'C:\\\\Users\\\\Public',\n",
       "        'PYDEVD_IPYTHON_COMPATIBLE_DEBUGGING': '1',\n",
       "        'PYTHON 3.12 (64-BIT)': 'C:\\\\ProgramData\\\\Microsoft\\\\Windows\\\\Start Menu\\\\Programs\\\\Python 3.12',\n",
       "        'PYTHONIOENCODING': 'utf-8',\n",
       "        'PYTHONUNBUFFERED': '1',\n",
       "        'PYTHON_FROZEN_MODULES': 'on',\n",
       "        'SESSIONNAME': 'Console',\n",
       "        'SYSTEMDRIVE': 'C:',\n",
       "        'SYSTEMROOT': 'C:\\\\WINDOWS',\n",
       "        'TEMP': 'C:\\\\Users\\\\Usman\\\\AppData\\\\Local\\\\Temp',\n",
       "        'TMP': 'C:\\\\Users\\\\Usman\\\\AppData\\\\Local\\\\Temp',\n",
       "        'USERDOMAIN': 'DESKTOP-CNVN8DD',\n",
       "        'USERDOMAIN_ROAMINGPROFILE': 'DESKTOP-CNVN8DD',\n",
       "        'USERNAME': 'Usman',\n",
       "        'USERPROFILE': 'C:\\\\Users\\\\Usman',\n",
       "        'VSCODE_AMD_ENTRYPOINT': 'vs/workbench/api/node/extensionHostProcess',\n",
       "        'VSCODE_CODE_CACHE_PATH': 'C:\\\\Users\\\\Usman\\\\AppData\\\\Roaming\\\\Code\\\\CachedData\\\\5437499feb04f7a586f677b155b039bc2b3669eb',\n",
       "        'VSCODE_CRASH_REPORTER_PROCESS_TYPE': 'extensionHost',\n",
       "        'VSCODE_CWD': 'C:\\\\Users\\\\Usman\\\\AppData\\\\Local\\\\Programs\\\\Microsoft VS Code',\n",
       "        'VSCODE_HANDLES_UNCAUGHT_ERRORS': 'true',\n",
       "        'VSCODE_IPC_HOOK': '\\\\\\\\.\\\\pipe\\\\d2abbb63-1.90.2-main-sock',\n",
       "        'VSCODE_L10N_BUNDLE_LOCATION': '',\n",
       "        'VSCODE_NLS_CONFIG': '{\"locale\":\"en-us\",\"osLocale\":\"en-us\",\"availableLanguages\":{},\"_languagePackSupport\":true}',\n",
       "        'VSCODE_PID': '47984',\n",
       "        'WINDIR': 'C:\\\\WINDOWS',\n",
       "        'ZES_ENABLE_SYSMAN': '1',\n",
       "        'PYDEVD_USE_FRAME_EVAL': 'NO',\n",
       "        'TERM': 'xterm-color',\n",
       "        'CLICOLOR': '1',\n",
       "        'FORCE_COLOR': '1',\n",
       "        'CLICOLOR_FORCE': '1',\n",
       "        'PAGER': 'cat',\n",
       "        'GIT_PAGER': 'cat',\n",
       "        'MPLBACKEND': 'module://matplotlib_inline.backend_inline'}"
      ]
     },
     "execution_count": 34,
     "metadata": {},
     "output_type": "execute_result"
    }
   ],
   "source": [
    "os.environ"
   ]
  },
  {
   "cell_type": "markdown",
   "metadata": {},
   "source": [
    "* If we want to get a sinlge environment variable"
   ]
  },
  {
   "cell_type": "code",
   "execution_count": 39,
   "metadata": {},
   "outputs": [
    {
     "name": "stdout",
     "output_type": "stream",
     "text": [
      "C:\\ProgramData\\Microsoft\\Windows\\Start Menu\\Programs\\Python 3.12\n"
     ]
    }
   ],
   "source": [
    "print(os.environ.get(\"Python 3.12 (64-bit)\"))"
   ]
  },
  {
   "cell_type": "markdown",
   "metadata": {},
   "source": [
    "Make a new text file "
   ]
  },
  {
   "cell_type": "code",
   "execution_count": 25,
   "metadata": {},
   "outputs": [],
   "source": [
    "current_directory = os.getcwd()\n",
    "file_path = os.path.join(current_directory, \"example.txt\")\n",
    "\n",
    "with open(file_path, \"w\") as writing:\n",
    "    writing.write(\"Hello, this is being written using the os module\")\n"
   ]
  },
  {
   "cell_type": "markdown",
   "metadata": {},
   "source": [
    "To see if a file exists"
   ]
  },
  {
   "cell_type": "code",
   "execution_count": 32,
   "metadata": {},
   "outputs": [
    {
     "name": "stdout",
     "output_type": "stream",
     "text": [
      "True\n",
      "False\n"
     ]
    }
   ],
   "source": [
    "print (os.path.exists(\"New 2\"))\n",
    "print (os.path.exists(\"New 10\"))\n",
    "\n",
    "if os.path.exists(\"New 10\") == False:\n",
    "    os.mkdir('New 10')"
   ]
  },
  {
   "cell_type": "code",
   "execution_count": null,
   "metadata": {},
   "outputs": [],
   "source": []
  },
  {
   "cell_type": "code",
   "execution_count": null,
   "metadata": {},
   "outputs": [],
   "source": []
  }
 ],
 "metadata": {
  "kernelspec": {
   "display_name": "Python 3",
   "language": "python",
   "name": "python3"
  },
  "language_info": {
   "codemirror_mode": {
    "name": "ipython",
    "version": 3
   },
   "file_extension": ".py",
   "mimetype": "text/x-python",
   "name": "python",
   "nbconvert_exporter": "python",
   "pygments_lexer": "ipython3",
   "version": "3.12.3"
  }
 },
 "nbformat": 4,
 "nbformat_minor": 2
}
