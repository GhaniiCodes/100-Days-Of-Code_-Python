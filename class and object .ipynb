{
 "cells": [
  {
   "cell_type": "code",
   "execution_count": 19,
   "metadata": {},
   "outputs": [
    {
     "name": "stdout",
     "output_type": "stream",
     "text": [
      "Muhammad  having Shirt Number 10 plays for Argentina\n",
      "Usman having Shirt Number 7 plays for Portugal\n",
      "Ghani having Shirt Number 9 plays for Spain\n"
     ]
    }
   ],
   "source": [
    "class Player:\n",
    "    \n",
    "    def Player_Info(self):\n",
    "        self.Name = input(\"Enter Name : \")\n",
    "        self.Shirt_Number = input (\"Enter Shirt Number : \")\n",
    "        self.Team = input(\"Enter Team Name : \")\n",
    "        print (f\"{self.Name} having Shirt Number {self.Shirt_Number} plays for {self.Team}\")\n",
    "       \n",
    "            \n",
    "A = Player()\n",
    "B = Player()\n",
    "C = Player()\n",
    "\n",
    "A.Player_Info()\n",
    "B.Player_Info()\n",
    "C.Player_Info()     \n",
    "        "
   ]
  },
  {
   "cell_type": "code",
   "execution_count": 12,
   "metadata": {},
   "outputs": [
    {
     "name": "stdout",
     "output_type": "stream",
     "text": [
      "Muhammad having Roll Number 232502 is in Artificial Intelligence Department\n",
      "\n",
      "\n",
      "Usman having Roll Number 232501 is in Computer Science Department\n",
      "\n",
      "\n",
      "Ghani having Roll Number 232503 is in Software Engineering Department\n"
     ]
    }
   ],
   "source": [
    "class Student:\n",
    "    Name = \"Muhammad\"\n",
    "    Department = \"Artificial Intelligence\"\n",
    "    Roll_Number = 232502\n",
    "    \n",
    "    def info(self):\n",
    "        print (f\"{self.Name} having Roll Number {self.Roll_Number} is in {self.Department} Department\")\n",
    "        \n",
    "        \n",
    "A = Student()\n",
    "A.info() \n",
    "\n",
    "print (\"\\n\")\n",
    "B = Student()\n",
    "B.Name = \"Usman\"\n",
    "B.Roll_Number = 232501\n",
    "B.Department = \"Computer Science\"\n",
    "B.info()   \n",
    "\n",
    "print (\"\\n\")\n",
    "C = Student()\n",
    "C.Name = \"Ghani\"\n",
    "C.Roll_Number = 232503\n",
    "C.Department = \"Software Engineering\"\n",
    "C.info()"
   ]
  },
  {
   "cell_type": "code",
   "execution_count": 1,
   "metadata": {},
   "outputs": [
    {
     "name": "stdout",
     "output_type": "stream",
     "text": [
      "Muhammad having Shirt Number 10 plays for Argentina\n",
      "Usman having Shirt Number 7 plays for Portugal\n",
      "Ghani having Shirt Number 9 plays for Spain\n"
     ]
    }
   ],
   "source": [
    "class Player:\n",
    "    def __init__(self,Name,Shirt_Number,Team):\n",
    "        self.Name = Name \n",
    "        self.Shirt_Number = Shirt_Number\n",
    "        self.Team = Team \n",
    "        \n",
    "    def Player_Info(self):\n",
    "        print (f\"{self.Name} having Shirt Number {self.Shirt_Number} plays for {self.Team}\")\n",
    "       \n",
    "            \n",
    "A = Player(\"Muhammad\",10,\"Argentina\")\n",
    "B = Player(\"Usman\",7,\"Portugal\")\n",
    "C = Player(\"Ghani\",9,\"Spain\")\n",
    "\n",
    "A.Player_Info()\n",
    "B.Player_Info()\n",
    "C.Player_Info()     \n",
    "        "
   ]
  },
  {
   "cell_type": "code",
   "execution_count": 3,
   "metadata": {},
   "outputs": [
    {
     "name": "stdout",
     "output_type": "stream",
     "text": [
      "This is The Player Info :- \n",
      "Muhammad  having Shirt Number 10 plays for Argentina \n",
      "This is The Player Info :- \n",
      "Usman having Shirt Number 9 plays for Spain\n",
      "This is The Player Info :- \n",
      "Ghani having Shirt Number 7 plays for Portugal\n"
     ]
    }
   ],
   "source": [
    "class Player:\n",
    "    \n",
    "    def __init__(self):\n",
    "        print (\"This is The Player Info :- \")\n",
    "    \n",
    "    def Player_Info(self):\n",
    "        self.Name = input(\"Enter Name : \")\n",
    "        self.Shirt_Number = input (\"Enter Shirt Number : \")\n",
    "        self.Team = input(\"Enter Team Name : \")\n",
    "        print (f\"{self.Name} having Shirt Number {self.Shirt_Number} plays for {self.Team}\")\n",
    "       \n",
    "            \n",
    "A = Player()\n",
    "A.Player_Info()\n",
    "B = Player()\n",
    "B.Player_Info()\n",
    "C = Player()\n",
    "C.Player_Info()        "
   ]
  },
  {
   "cell_type": "code",
   "execution_count": null,
   "metadata": {},
   "outputs": [],
   "source": []
  }
 ],
 "metadata": {
  "kernelspec": {
   "display_name": "Python 3",
   "language": "python",
   "name": "python3"
  },
  "language_info": {
   "codemirror_mode": {
    "name": "ipython",
    "version": 3
   },
   "file_extension": ".py",
   "mimetype": "text/x-python",
   "name": "python",
   "nbconvert_exporter": "python",
   "pygments_lexer": "ipython3",
   "version": "3.12.3"
  }
 },
 "nbformat": 4,
 "nbformat_minor": 2
}
