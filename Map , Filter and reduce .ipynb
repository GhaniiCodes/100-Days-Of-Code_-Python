{
 "cells": [
  {
   "cell_type": "markdown",
   "metadata": {},
   "source": [
    " # MAP"
   ]
  },
  {
   "cell_type": "code",
   "execution_count": 5,
   "metadata": {},
   "outputs": [
    {
     "name": "stdout",
     "output_type": "stream",
     "text": [
      "The selected list :  [10, 23, 43]\n",
      "Cube of that List [1000, 12167, 79507]\n"
     ]
    }
   ],
   "source": [
    "def Cube(A):\n",
    "    return A*A*A\n",
    "\n",
    "A = []\n",
    "Length = int(input(\"Enter the length of list : \"))\n",
    "for i in range (1, Length+1):\n",
    "    Input = int(input(f\"Enter {i} element of list : \"))\n",
    "    A.append(Input)\n",
    "    \n",
    "\n",
    "print (\"The selected list : \", A)\n",
    "print (\"Cube of that List\" ,list(map(Cube , A)))\n",
    "\n",
    "\n",
    "    "
   ]
  },
  {
   "cell_type": "code",
   "execution_count": 13,
   "metadata": {},
   "outputs": [
    {
     "name": "stdout",
     "output_type": "stream",
     "text": [
      "The selected list :  [2, 1, 3, 4, 5]\n",
      "Cube of that List [8, 1, 27, 64, 125]\n"
     ]
    }
   ],
   "source": [
    "A = []\n",
    "Length = int(input(\"Enter the length of list : \"))\n",
    "for i in range (1, Length+1):\n",
    "    Input = int(input(f\"Enter {i} element of list : \"))\n",
    "    A.append(Input)\n",
    "    \n",
    "\n",
    "print (\"The selected list : \", A)\n",
    "print (\"Cube of that List\" ,list(map(lambda A: A*A*A , A)))\n"
   ]
  },
  {
   "cell_type": "markdown",
   "metadata": {},
   "source": [
    "# FILTER"
   ]
  },
  {
   "cell_type": "code",
   "execution_count": 12,
   "metadata": {},
   "outputs": [
    {
     "name": "stdout",
     "output_type": "stream",
     "text": [
      "Original List :  [12, 3, 2, 1, 90, 61]\n",
      "Filtered (Less than 4 :  [3, 2, 1]\n",
      "Filtered (Greater Than 4) :  [12, 90, 61]\n"
     ]
    }
   ],
   "source": [
    "def Filter_function(a):\n",
    "    return a < 4\n",
    "\n",
    "def Filter_function_2(a):\n",
    "    return a > 4\n",
    "\n",
    "A = []\n",
    "Length = int(input(\"Enter the length of list : \"))\n",
    "for i in range (1, Length+1):\n",
    "    Input = int(input(f\"Enter {i} element of list : \"))\n",
    "    A.append(Input)\n",
    "print (\"Original List : \", A)\n",
    "print (\"Filtered (Less than 4 : \", list(filter(Filter_function, A)))\n",
    "print (\"Filtered (Greater Than 4) : \", list(filter(Filter_function_2 , A)))\n",
    "\n",
    "    "
   ]
  },
  {
   "cell_type": "code",
   "execution_count": 14,
   "metadata": {},
   "outputs": [
    {
     "name": "stdout",
     "output_type": "stream",
     "text": [
      "Original List :  [1, 2, 60, 50]\n",
      "Filtered (Less than 4 :  [1, 2]\n",
      "Filtered (Greater Than 4) :  [60, 50]\n"
     ]
    }
   ],
   "source": [
    "A = []\n",
    "Length = int(input(\"Enter the length of list : \"))\n",
    "for i in range (1, Length+1):\n",
    "    Input = int(input(f\"Enter {i} element of list : \"))\n",
    "    A.append(Input)\n",
    "print (\"Original List : \", A)\n",
    "print (\"Filtered (Less than 4 : \", list(filter(lambda a : a < 4, A)))\n",
    "print (\"Filtered (Greater Than 4) : \", list(filter(lambda a : a > 4 , A)))\n"
   ]
  },
  {
   "cell_type": "markdown",
   "metadata": {},
   "source": [
    "# REDUCED \n"
   ]
  },
  {
   "cell_type": "code",
   "execution_count": 18,
   "metadata": {},
   "outputs": [
    {
     "name": "stdout",
     "output_type": "stream",
     "text": [
      "Original List :  [12, 20, 10, 2, 5, 2]\n",
      "Reduced :  51\n"
     ]
    }
   ],
   "source": [
    "import functools as func\n",
    "A = []\n",
    "Length = int(input(\"Enter the length of list : \"))\n",
    "for i in range (1, Length+1):\n",
    "    Input = int(input(f\"Enter {i} element of list : \"))\n",
    "    A.append(Input)\n",
    "\n",
    "print (\"Original List : \",A)  \n",
    "print (\"Reduced : \", func.reduce(lambda A,B : A+B, A))"
   ]
  },
  {
   "cell_type": "code",
   "execution_count": 20,
   "metadata": {},
   "outputs": [
    {
     "name": "stdout",
     "output_type": "stream",
     "text": [
      "Original List :  [12, 20, 10, 3, 7, 2]\n",
      "Reduced :  54\n"
     ]
    }
   ],
   "source": [
    "import functools as func\n",
    "\n",
    "def Reduce_Fuction(A,B):\n",
    "    return A + B\n",
    "    \n",
    "\n",
    "\n",
    "A = []\n",
    "Length = int(input(\"Enter the length of list : \"))\n",
    "for i in range (1, Length+1):\n",
    "    Input = int(input(f\"Enter {i} element of list : \"))\n",
    "    A.append(Input)\n",
    "\n",
    "print (\"Original List : \",A)  \n",
    "print (\"Reduced : \", func.reduce(Reduce_Fuction, A))"
   ]
  },
  {
   "cell_type": "code",
   "execution_count": null,
   "metadata": {},
   "outputs": [],
   "source": []
  }
 ],
 "metadata": {
  "kernelspec": {
   "display_name": "Python 3",
   "language": "python",
   "name": "python3"
  },
  "language_info": {
   "codemirror_mode": {
    "name": "ipython",
    "version": 3
   },
   "file_extension": ".py",
   "mimetype": "text/x-python",
   "name": "python",
   "nbconvert_exporter": "python",
   "pygments_lexer": "ipython3",
   "version": "3.12.3"
  }
 },
 "nbformat": 4,
 "nbformat_minor": 2
}
