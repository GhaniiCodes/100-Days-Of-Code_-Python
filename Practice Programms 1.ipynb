{
 "cells": [
  {
   "cell_type": "markdown",
   "metadata": {},
   "source": [
    "Basic Arithmetic Opeations"
   ]
  },
  {
   "cell_type": "code",
   "execution_count": 3,
   "metadata": {},
   "outputs": [
    {
     "name": "stdout",
     "output_type": "stream",
     "text": [
      "Addition 30\n",
      "Product 200\n",
      "Divisio 0.5\n",
      "Difference -10\n",
      "Power 100000000000000000000\n",
      "Modulus 10\n",
      "rounded off division 0\n"
     ]
    }
   ],
   "source": [
    "\n",
    "a = 10\n",
    "b = 20\n",
    "print (\"Addition\",a + b)\n",
    "print (\"Product\",a * b)\n",
    "print (\"Divisio\",a / b)\n",
    "print (\"Difference\",a - b)\n",
    "print (\"Power\",a ** b)\n",
    "print (\"Modulus\", a % b)\n",
    "print (\"rounded off division\", a // b)"
   ]
  },
  {
   "cell_type": "markdown",
   "metadata": {},
   "source": [
    "String Operations"
   ]
  },
  {
   "cell_type": "code",
   "execution_count": 20,
   "metadata": {},
   "outputs": [
    {
     "name": "stdout",
     "output_type": "stream",
     "text": [
      "Length :  20\n",
      "Lower Case :  muhammad usman ghani\n",
      "Upper Case :  MUHAMMAD USMAN GHANI\n",
      "Splitting Name :  ['Muhammad', 'Usman', 'Ghani']\n",
      "Swapping Case  mUHAMMAD uSMAN gHANI\n"
     ]
    }
   ],
   "source": [
    "name = \"Muhammad Usman Ghani\"\n",
    "print (\"Length : \",len(name))\n",
    "print (\"Lower Case : \",name.lower())\n",
    "print (\"Upper Case : \",name.upper())\n",
    "print (\"Splitting Name : \",name.split())\n",
    "print (\"Swapping Case \",name.swapcase())"
   ]
  },
  {
   "cell_type": "markdown",
   "metadata": {},
   "source": [
    "ODD or EVEN"
   ]
  },
  {
   "cell_type": "code",
   "execution_count": 1,
   "metadata": {},
   "outputs": [],
   "source": [
    "number = int(input(\"Enter a Number :\"))\n",
    "if (number % 2 == 0):\n",
    "    print(\"Even Number\")\n",
    "else :\n",
    "    print (\"Odd Number\")    "
   ]
  },
  {
   "cell_type": "markdown",
   "metadata": {},
   "source": [
    "GRADES"
   ]
  },
  {
   "cell_type": "code",
   "execution_count": 2,
   "metadata": {},
   "outputs": [],
   "source": [
    "A = int(input(\"Enter Your Marks : \"))\n",
    "if A >= 90 and A <= 100:\n",
    "    print (\"Grade A\")\n",
    "elif A >=80 and A<90:\n",
    "    print (\"Grade B\")\n",
    "elif A >=70 and A<80:\n",
    "    print (\"Grade C\")\n",
    "elif A >= 60 and A<70:\n",
    "    print (\"Grade D\")\n",
    "elif A >= 0 and A < 60:\n",
    "    print (\"Grade F\")\n",
    "else :\n",
    "    print (\"Not A Valid INPUT\")\n",
    "    \n",
    "    "
   ]
  },
  {
   "cell_type": "markdown",
   "metadata": {},
   "source": [
    "LEAP YEAR"
   ]
  },
  {
   "cell_type": "code",
   "execution_count": 4,
   "metadata": {},
   "outputs": [],
   "source": [
    "year = int(input(\"Enter Year : \"))\n",
    "if (year % 4 == 0):\n",
    "    print (\"it is leap year \")\n",
    "else:\n",
    "    print (\"It is not a leap year\")"
   ]
  },
  {
   "cell_type": "markdown",
   "metadata": {},
   "source": [
    "DOUBLE FOR LOOP"
   ]
  },
  {
   "cell_type": "code",
   "execution_count": 10,
   "metadata": {},
   "outputs": [
    {
     "name": "stdout",
     "output_type": "stream",
     "text": [
      "red apple\n",
      "red banana\n",
      "red cherry\n",
      "big apple\n",
      "big banana\n",
      "big cherry\n",
      "tasty apple\n",
      "tasty banana\n",
      "tasty cherry\n"
     ]
    }
   ],
   "source": [
    "adj = [\"red\", \"big\", \"tasty\"]\n",
    "fruits = [\"apple\", \"banana\", \"cherry\"]\n",
    "\n",
    "for x in adj:\n",
    "  for y in fruits:\n",
    "    print(x, y)"
   ]
  },
  {
   "cell_type": "markdown",
   "metadata": {},
   "source": [
    "Sum of elements in for LOOP"
   ]
  },
  {
   "cell_type": "code",
   "execution_count": 24,
   "metadata": {},
   "outputs": [
    {
     "name": "stdout",
     "output_type": "stream",
     "text": [
      "55\n"
     ]
    }
   ],
   "source": [
    "sum = 0\n",
    "for i in range(1,11):\n",
    "    sum = sum + i\n",
    "print (sum)"
   ]
  },
  {
   "cell_type": "code",
   "execution_count": 25,
   "metadata": {},
   "outputs": [
    {
     "name": "stdout",
     "output_type": "stream",
     "text": [
      "55\n"
     ]
    }
   ],
   "source": [
    "sum = 0\n",
    "for i in range(1,11):\n",
    "    sum += i\n",
    "print (sum)"
   ]
  },
  {
   "cell_type": "markdown",
   "metadata": {},
   "source": [
    "FACTORIAL"
   ]
  },
  {
   "cell_type": "code",
   "execution_count": 1,
   "metadata": {},
   "outputs": [],
   "source": [
    "i = int(input(\"Enter a number : \"))\n",
    "factorial = 1\n",
    "while i > 1:\n",
    "    factorial = factorial * i\n",
    "    i = i - 1\n",
    "print (factorial)\n",
    "    \n",
    "    \n",
    "    "
   ]
  },
  {
   "cell_type": "markdown",
   "metadata": {},
   "source": [
    "PALINDROME"
   ]
  },
  {
   "cell_type": "markdown",
   "metadata": {},
   "source": [
    " - check if the string is same in forward direction as well as backward"
   ]
  },
  {
   "cell_type": "code",
   "execution_count": 2,
   "metadata": {},
   "outputs": [],
   "source": [
    "def palindrome(str):\n",
    "    if str[::1] == str[::-1]:\n",
    "        return \"True\"\n",
    "    elif str[::1] != str[::-1]:\n",
    "        return \"False\"\n",
    "    \n",
    "A = input(\"Enter a String : \")\n",
    "print (palindrome(A))    \n",
    "         "
   ]
  },
  {
   "cell_type": "markdown",
   "metadata": {},
   "source": [
    "Some lists methods\n"
   ]
  },
  {
   "cell_type": "code",
   "execution_count": 15,
   "metadata": {},
   "outputs": [
    {
     "name": "stdout",
     "output_type": "stream",
     "text": [
      "[4, 2, 6, 1, 7, 8, 23, 56]\n",
      "[4, 2, 6, 1, 7, 8, 23, 56, 55]\n",
      "[4, 2, 6, 1, 7, 23, 56, 55]\n",
      "56\n",
      "1\n"
     ]
    }
   ],
   "source": [
    "list = [4,2,6,1,7,8,23,56]\n",
    "print (list)\n",
    "list.append(55)\n",
    "print (list)\n",
    "list.remove(8)\n",
    "print (list)\n",
    "sorted(list)\n",
    "print(max(list))\n",
    "print(min(list))\n"
   ]
  },
  {
   "cell_type": "markdown",
   "metadata": {},
   "source": [
    "Tuple"
   ]
  },
  {
   "cell_type": "code",
   "execution_count": 30,
   "metadata": {},
   "outputs": [
    {
     "name": "stdout",
     "output_type": "stream",
     "text": [
      "{1, 2, 3, 4, 5}\n",
      "1\n",
      "2\n",
      "3\n",
      "4\n",
      "5\n",
      "Lenth is :  5\n",
      "Three is present\n"
     ]
    }
   ],
   "source": [
    "tuple = {1,2,3,4,5}\n",
    "print (tuple) \n",
    "for i in tuple:\n",
    "    print (i)\n",
    "    \n",
    "print (\"Lenth is : \",len(tuple))\n",
    " \n",
    "if 3 in tuple:\n",
    "    print (\"Three is present\")\n",
    "else :\n",
    "    print (\"Three is not present\")\n",
    "    \n",
    "\n",
    "\n",
    "    "
   ]
  },
  {
   "cell_type": "markdown",
   "metadata": {},
   "source": [
    "To print UNIQUE elements in LIST"
   ]
  },
  {
   "cell_type": "code",
   "execution_count": 1,
   "metadata": {},
   "outputs": [],
   "source": [
    "def unique_elements():\n",
    "    A = []\n",
    "    n = int(input(\"Enter number of elements of list : \"))\n",
    "    for i in range (0,n):\n",
    "        i = int(input())\n",
    "        A.append(i)\n",
    "    print (\"The original list :\",A)\n",
    "    print (\"The list with Unique elements : \",set(A))    \n",
    "      \n",
    "unique_elements()    "
   ]
  },
  {
   "cell_type": "markdown",
   "metadata": {},
   "source": [
    "ADD two lists and print unique elements"
   ]
  },
  {
   "cell_type": "code",
   "execution_count": 5,
   "metadata": {},
   "outputs": [],
   "source": [
    "def add_twolists():\n",
    "    A = []\n",
    "    n = int(input(\"Enter the elements of list 1 :\"))\n",
    "    for i in range (0,n):\n",
    "        i = int(input())\n",
    "        A.append(i)\n",
    "    print (\"The original first list : \", A)\n",
    "    \n",
    "    B = []\n",
    "    m = int(input(\"Enter the elements of list 2 : \"))\n",
    "    for i in range (0,m):\n",
    "        i = int(input())\n",
    "        B.append(i)\n",
    "    print (\"The original Second list \"  ,B)\n",
    "    print (\"Added set but only unique elements are printed : \",set(A+B))\n",
    "    \n",
    "add_twolists()"
   ]
  },
  {
   "cell_type": "markdown",
   "metadata": {},
   "source": [
    "Grade Average Calculation"
   ]
  },
  {
   "cell_type": "markdown",
   "metadata": {},
   "source": [
    "- max , min and average\n"
   ]
  },
  {
   "cell_type": "code",
   "execution_count": 1,
   "metadata": {},
   "outputs": [],
   "source": [
    "n = int(input(\"Enter the Number of students : \"))\n",
    "Marks = []\n",
    "for i in range(0,n):\n",
    "    i = int(input())\n",
    "    Marks.append(i)\n",
    "print(\"Following are the marks :\\n \" ,Marks)\n",
    "print (\"Average Marks are : \", sum(Marks)/len(Marks))\n",
    "print (\"Maximum Marks : \", max(Marks))\n",
    "print (\"Minimum Marks : \",min(Marks))\n",
    "    "
   ]
  },
  {
   "cell_type": "code",
   "execution_count": null,
   "metadata": {},
   "outputs": [],
   "source": []
  }
 ],
 "metadata": {
  "kernelspec": {
   "display_name": "Python 3",
   "language": "python",
   "name": "python3"
  },
  "language_info": {
   "codemirror_mode": {
    "name": "ipython",
    "version": 3
   },
   "file_extension": ".py",
   "mimetype": "text/x-python",
   "name": "python",
   "nbconvert_exporter": "python",
   "pygments_lexer": "ipython3",
   "version": "3.12.3"
  }
 },
 "nbformat": 4,
 "nbformat_minor": 2
}
